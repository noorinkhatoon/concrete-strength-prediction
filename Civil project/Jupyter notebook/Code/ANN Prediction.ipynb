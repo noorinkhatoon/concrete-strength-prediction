{
 "cells": [
  {
   "cell_type": "markdown",
   "id": "52904bba-3db0-4dbf-8f0d-ee2b8dfd760b",
   "metadata": {},
   "source": [
    "# Step 1: Import Required Libraries"
   ]
  },
  {
   "cell_type": "code",
   "execution_count": 20,
   "id": "59e0e34c-c849-4842-8561-fdcdc8710406",
   "metadata": {},
   "outputs": [],
   "source": [
    "# 1. IMPORTING NECESSARY LIBRARIES\n",
    "import numpy as np  # For numerical operations\n",
    "import pandas as pd  # For data manipulation\n",
    "import pickle  # For loading the saved scaler\n",
    "from tensorflow.keras.models import load_model  # To load the trained model\n",
    "from sklearn.preprocessing import StandardScaler  # For scaling input features\n",
    "import tensorflow as tf  # For setting seed and predictions\n",
    "\n",
    "# Set seeds for reproducibility\n",
    "np.random.seed(42)\n",
    "tf.random.set_seed(42)\n"
   ]
  },
  {
   "cell_type": "markdown",
   "id": "2c1e2dc9-3c04-42d1-a529-116950e2012f",
   "metadata": {},
   "source": [
    "# 🧠 Step 2: Load the Trained Model"
   ]
  },
  {
   "cell_type": "code",
   "execution_count": 22,
   "id": "0862be1e-2cfd-46d0-9e89-db16def18f4e",
   "metadata": {},
   "outputs": [],
   "source": [
    "# Load the trained model\n",
    "ann = load_model(\"model/ann_model.h5\")\n",
    "# Load the saved StandardScaler\n",
    "with open('../model/scaler.pkl', 'rb') as f:\n",
    "    sc = pickle.load(f)"
   ]
  },
  {
   "cell_type": "markdown",
   "id": "e26a97e5-86ce-4c0c-b47e-be864989b50c",
   "metadata": {},
   "source": [
    "# Step 3: Define Input Feature Prompts"
   ]
  },
  {
   "cell_type": "code",
   "execution_count": 28,
   "id": "5600d7e0-d3c6-4b0b-828e-52bf88e35810",
   "metadata": {},
   "outputs": [
    {
     "name": "stdout",
     "output_type": "stream",
     "text": [
      "🔢 Please enter the following feature values for prediction:\n",
      "\n"
     ]
    },
    {
     "name": "stdin",
     "output_type": "stream",
     "text": [
      "Cement (kg in a m^3 mixture):  300\n",
      "Blast Furnace Slag (kg in a m^3 mixture):  150\n",
      "Fly Ash (kg in a m^3 mixture):  50\n",
      "Water (kg in a m^3 mixture):  180\n",
      "Superplasticizer (kg in a m^3 mixture):  10\n",
      "Coarse Aggregate (kg in a m^3 mixture):  950\n",
      "Fine Aggregate (kg in a m^3 mixture):  800\n",
      "Age (days):  28\n"
     ]
    },
    {
     "name": "stdout",
     "output_type": "stream",
     "text": [
      "1/1 [==============================] - 0s 56ms/step\n",
      "\n",
      "✅ Prediction Complete!\n",
      "🧱 Predicted Concrete Compressive Strength: 48.81 MPa\n"
     ]
    },
    {
     "name": "stderr",
     "output_type": "stream",
     "text": [
      "C:\\Users\\DELL\\anaconda3\\envs\\civil\\lib\\site-packages\\sklearn\\base.py:439: UserWarning: X does not have valid feature names, but StandardScaler was fitted with feature names\n",
      "  warnings.warn(\n"
     ]
    }
   ],
   "source": [
    "# 4. DEFINING FEATURE PROMPTS FOR USER INPUT\n",
    "feature_prompts = [\n",
    "    \"Cement (kg in a m^3 mixture)\",\n",
    "    \"Blast Furnace Slag (kg in a m^3 mixture)\",\n",
    "    \"Fly Ash (kg in a m^3 mixture)\",\n",
    "    \"Water (kg in a m^3 mixture)\",\n",
    "    \"Superplasticizer (kg in a m^3 mixture)\",\n",
    "    \"Coarse Aggregate (kg in a m^3 mixture)\",\n",
    "    \"Fine Aggregate (kg in a m^3 mixture)\",\n",
    "    \"Age (days)\"\n",
    "]\n",
    "\n",
    "\n",
    "# 5. COLLECTING USER INPUT VALUES\n",
    "input_values = []\n",
    "print(\"🔢 Please enter the following feature values for prediction:\\n\")\n",
    "\n",
    "for prompt in feature_prompts:\n",
    "    while True:\n",
    "        try:\n",
    "            value = float(input(f\"{prompt}: \"))\n",
    "            input_values.append(value)\n",
    "            break\n",
    "        except ValueError:\n",
    "            print(\"❌ Invalid input. Please enter a numeric value.\")\n",
    "\n",
    "            # 6. SCALING INPUT AND MAKING PREDICTION\n",
    "input_array = np.array([input_values])  # Reshape for single sample\n",
    "input_scaled = scaler.transform(input_array)  # Apply scaling\n",
    "\n",
    "predicted_strength = model.predict(input_scaled)[0][0]\n",
    "\n",
    "\n",
    "# 7. DISPLAYING THE PREDICTED OUTPUT\n",
    "print(\"\\n✅ Prediction Complete!\")\n",
    "print(f\"🧱 Predicted Concrete Compressive Strength: {predicted_strength:.2f} MPa\")\n",
    "\n"
   ]
  },
  {
   "cell_type": "code",
   "execution_count": null,
   "id": "38234ce3-6523-4caa-bb3f-2540d083bd68",
   "metadata": {},
   "outputs": [],
   "source": []
  }
 ],
 "metadata": {
  "kernelspec": {
   "display_name": "Python 3 (ipykernel)",
   "language": "python",
   "name": "python3"
  },
  "language_info": {
   "codemirror_mode": {
    "name": "ipython",
    "version": 3
   },
   "file_extension": ".py",
   "mimetype": "text/x-python",
   "name": "python",
   "nbconvert_exporter": "python",
   "pygments_lexer": "ipython3",
   "version": "3.9.21"
  }
 },
 "nbformat": 4,
 "nbformat_minor": 5
}
