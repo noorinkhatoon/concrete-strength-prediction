{
 "cells": [
  {
   "cell_type": "markdown",
   "id": "430044c2-e5b9-4c72-8f57-13391ff02984",
   "metadata": {},
   "source": [
    "# 1. IMPORTING NECESSARY LIBRARIES"
   ]
  },
  {
   "cell_type": "code",
   "execution_count": 10,
   "id": "833a5c05-d7dc-4ba8-9ad4-5aa17c1a34ab",
   "metadata": {},
   "outputs": [],
   "source": [
    "# 1. IMPORTING NECESSARY LIBRARIES\n",
    "import numpy as np  # For numerical operations\n",
    "import pandas as pd  # For data manipulation\n",
    "import pickle  # For loading the saved scaler\n",
    "from tensorflow.keras.models import load_model  # To load the trained model\n",
    "from sklearn.preprocessing import StandardScaler  # For scaling input features\n",
    "import tensorflow as tf  # For setting seed and predictions\n",
    "\n",
    "# Set seeds for reproducibility\n",
    "np.random.seed(42)\n",
    "tf.random.set_seed(42)\n"
   ]
  },
  {
   "cell_type": "markdown",
   "id": "c907321d-608b-4f77-8fe3-8596dee7ad9b",
   "metadata": {},
   "source": [
    "# 2. Load the trained model"
   ]
  },
  {
   "cell_type": "code",
   "execution_count": 11,
   "id": "f2fd4dd4-3687-4ce9-99d8-77ce3ce8b44e",
   "metadata": {},
   "outputs": [],
   "source": [
    "# Load the trained model\n",
    "ann = load_model(\"model/ann_model.h5\")\n",
    "# Load the saved StandardScaler\n",
    "with open('../model/scaler.pkl', 'rb') as f:\n",
    "    scaler = pickle.load(f)\n",
    "\n",
    "    import joblib\n",
    "\n",
    "# Load the trained Random Forest model\n",
    "rf_model = joblib.load(\"model/random_forest_model.pkl\")\n"
   ]
  },
  {
   "cell_type": "markdown",
   "id": "7e8a3a6c-7c36-49c9-8f3f-6db190a11eca",
   "metadata": {},
   "source": [
    "# 3. Prediction step"
   ]
  },
  {
   "cell_type": "code",
   "execution_count": 12,
   "id": "4760dd11-cbaa-4b8a-a41a-84218a13cb91",
   "metadata": {},
   "outputs": [
    {
     "name": "stdout",
     "output_type": "stream",
     "text": [
      "🔢 Please enter the following feature values for prediction:\n",
      "\n"
     ]
    },
    {
     "name": "stdin",
     "output_type": "stream",
     "text": [
      "Cement (kg in a m^3 mixture):  350\n",
      "Blast Furnace Slag (kg in a m^3 mixture):  10\n",
      "Fly Ash (kg in a m^3 mixture):  180\n",
      "Water (kg in a m^3 mixture):  950\n",
      "Superplasticizer (kg in a m^3 mixture):  800\n",
      "Coarse Aggregate (kg in a m^3 mixture):  150\n",
      "Fine Aggregate (kg in a m^3 mixture):  50\n",
      "Age (days):  28\n"
     ]
    },
    {
     "name": "stdout",
     "output_type": "stream",
     "text": [
      "\n",
      "✅ Prediction Complete!\n",
      "🌲 Predicted Concrete Compressive Strength (Random Forest): 42.11 MPa\n"
     ]
    },
    {
     "name": "stderr",
     "output_type": "stream",
     "text": [
      "C:\\Users\\DELL\\anaconda3\\envs\\civil\\lib\\site-packages\\sklearn\\base.py:439: UserWarning: X does not have valid feature names, but StandardScaler was fitted with feature names\n",
      "  warnings.warn(\n"
     ]
    }
   ],
   "source": [
    "# Define the feature prompts (same order as training data)\n",
    "feature_prompts = [\n",
    "    \"Cement (kg in a m^3 mixture)\",\n",
    "    \"Blast Furnace Slag (kg in a m^3 mixture)\",\n",
    "    \"Fly Ash (kg in a m^3 mixture)\",\n",
    "    \"Water (kg in a m^3 mixture)\",\n",
    "    \"Superplasticizer (kg in a m^3 mixture)\",\n",
    "    \"Coarse Aggregate (kg in a m^3 mixture)\",\n",
    "    \"Fine Aggregate (kg in a m^3 mixture)\",\n",
    "    \"Age (days)\"\n",
    "]\n",
    "\n",
    "# Take input from user for each feature\n",
    "input_values = []\n",
    "print(\"🔢 Please enter the following feature values for prediction:\\n\")\n",
    "\n",
    "for prompt in feature_prompts:\n",
    "    while True:\n",
    "        try:\n",
    "            value = float(input(f\"{prompt}: \"))\n",
    "            input_values.append(value)\n",
    "            break\n",
    "        except ValueError:\n",
    "            print(\"❌ Invalid input. Please enter a numeric value.\")\n",
    "\n",
    "# Convert input to array and scale it\n",
    "input_array = np.array([input_values])  # Shape: (1, 8)\n",
    "input_scaled = scaler.transform(input_array)  # Apply the same scaling used during training\n",
    "\n",
    "# Make prediction\n",
    "predicted_strength = rf_model.predict(input_scaled)[0]\n",
    "\n",
    "print(\"\\n✅ Prediction Complete!\")\n",
    "print(f\"🌲 Predicted Concrete Compressive Strength (Random Forest): {predicted_strength:.2f} MPa\")\n"
   ]
  },
  {
   "cell_type": "code",
   "execution_count": null,
   "id": "37963ef1-b5a2-4ebf-84cd-0f8b08221e2e",
   "metadata": {},
   "outputs": [],
   "source": []
  }
 ],
 "metadata": {
  "kernelspec": {
   "display_name": "Python 3 (ipykernel)",
   "language": "python",
   "name": "python3"
  },
  "language_info": {
   "codemirror_mode": {
    "name": "ipython",
    "version": 3
   },
   "file_extension": ".py",
   "mimetype": "text/x-python",
   "name": "python",
   "nbconvert_exporter": "python",
   "pygments_lexer": "ipython3",
   "version": "3.9.21"
  }
 },
 "nbformat": 4,
 "nbformat_minor": 5
}
