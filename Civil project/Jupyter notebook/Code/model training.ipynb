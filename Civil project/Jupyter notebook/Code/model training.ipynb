{
 "cells": [
  {
   "cell_type": "markdown",
   "id": "4033d30a-1486-471d-bef0-ce5d1691090f",
   "metadata": {},
   "source": [
    "# 1. Importing Necessary Libraries"
   ]
  },
  {
   "cell_type": "code",
   "execution_count": 23,
   "id": "b30c019e-277b-4511-b1a1-39e987bb0712",
   "metadata": {},
   "outputs": [],
   "source": [
    "import pandas as pd\n",
    "import numpy as np\n",
    "import os\n",
    "import pickle\n",
    "import joblib\n",
    "from sklearn.preprocessing import StandardScaler\n",
    "from tensorflow.keras.models import Sequential\n",
    "from tensorflow.keras.layers import Dense\n",
    "from tensorflow.keras.models import load_model\n",
    "from sklearn.metrics import mean_squared_error, mean_absolute_error, r2_score"
   ]
  },
  {
   "cell_type": "markdown",
   "id": "147278a5-11b4-41f4-b809-30b044927138",
   "metadata": {},
   "source": [
    "# 2. Load Train and Test Data"
   ]
  },
  {
   "cell_type": "code",
   "execution_count": 24,
   "id": "cbe6cef6-1e37-47c7-884f-99342c679cd7",
   "metadata": {},
   "outputs": [],
   "source": [
    "X_train_df = pd.read_csv(\"saved_data/X_train.csv\")\n",
    "X_test_df = pd.read_csv(\"saved_data/X_test.csv\")\n",
    "y_train_df = pd.read_csv(\"saved_data/y_train.csv\")\n",
    "y_test_df = pd.read_csv(\"saved_data/y_test.csv\")"
   ]
  },
  {
   "cell_type": "markdown",
   "id": "7141f041-9797-4e0d-b3e7-d8a553439828",
   "metadata": {},
   "source": [
    "#  3. Fit Scaler on X_train and Transform Both Sets"
   ]
  },
  {
   "cell_type": "code",
   "execution_count": 25,
   "id": "fce4a827-8e98-477a-b4d1-200a7db9bc7f",
   "metadata": {},
   "outputs": [],
   "source": [
    "scaler = StandardScaler()\n",
    "X_train_scaled = scaler.fit_transform(X_train_df)\n",
    "X_test_scaled = scaler.transform(X_test_df)\n"
   ]
  },
  {
   "cell_type": "markdown",
   "id": "2c9dec4c-9159-44ec-88c8-9bc27b9687e1",
   "metadata": {},
   "source": [
    "# 4. Save the Scaler for Later Use"
   ]
  },
  {
   "cell_type": "code",
   "execution_count": 26,
   "id": "bb16b27b-965e-44cc-bbd2-1c88b3c473b3",
   "metadata": {},
   "outputs": [
    {
     "name": "stdout",
     "output_type": "stream",
     "text": [
      "✅ Scaler saved successfully!\n"
     ]
    }
   ],
   "source": [
    "os.makedirs(\"model\", exist_ok=True)\n",
    "\n",
    "with open(\"model/scaler.pkl\", \"wb\") as f:\n",
    "    pickle.dump(scaler, f)\n",
    "\n",
    "print(\"✅ Scaler saved successfully!\")\n"
   ]
  },
  {
   "cell_type": "markdown",
   "id": "a7ca9f60-a319-4890-9bae-6775da9b3fff",
   "metadata": {},
   "source": [
    "# 5. Build the ANN Model"
   ]
  },
  {
   "cell_type": "code",
   "execution_count": 27,
   "id": "4be01d29-96f1-465d-83d1-624e590638f5",
   "metadata": {},
   "outputs": [],
   "source": [
    "model = Sequential([\n",
    "    Dense(64, activation='relu', input_shape=(X_train_scaled.shape[1],)), # Start building ANN model # First hidden layer\n",
    "    Dense(32, activation='relu'), # Second hidden layer\n",
    "    Dense(1)  # Output layer for regression \n",
    "])\n"
   ]
  },
  {
   "cell_type": "markdown",
   "id": "4173f730-e86b-4f22-9295-55fc92d877d1",
   "metadata": {},
   "source": [
    "# 6. Compile the Model"
   ]
  },
  {
   "cell_type": "code",
   "execution_count": 28,
   "id": "caf640df-1403-40f1-a166-833fd677e26c",
   "metadata": {},
   "outputs": [],
   "source": [
    "model.compile(optimizer='adam', loss='mean_squared_error', metrics=['mae']) # Use MSE loss and MAE for evaluation\n"
   ]
  },
  {
   "cell_type": "markdown",
   "id": "1e5b7652-51f8-4a99-97c2-9e145e5f33bb",
   "metadata": {},
   "source": [
    "# 7. Callbacks Setup"
   ]
  },
  {
   "cell_type": "code",
   "execution_count": 29,
   "id": "c99c3573-f4ba-4f3c-bc91-adb4fe37a256",
   "metadata": {},
   "outputs": [
    {
     "ename": "NameError",
     "evalue": "name 'EarlyStopping' is not defined",
     "output_type": "error",
     "traceback": [
      "\u001b[1;31m---------------------------------------------------------------------------\u001b[0m",
      "\u001b[1;31mNameError\u001b[0m                                 Traceback (most recent call last)",
      "Cell \u001b[1;32mIn[29], line 1\u001b[0m\n\u001b[1;32m----> 1\u001b[0m early_stopping \u001b[38;5;241m=\u001b[39m \u001b[43mEarlyStopping\u001b[49m(monitor\u001b[38;5;241m=\u001b[39m\u001b[38;5;124m'\u001b[39m\u001b[38;5;124mval_loss\u001b[39m\u001b[38;5;124m'\u001b[39m, patience\u001b[38;5;241m=\u001b[39m\u001b[38;5;241m10\u001b[39m, restore_best_weights\u001b[38;5;241m=\u001b[39m\u001b[38;5;28;01mTrue\u001b[39;00m) \u001b[38;5;66;03m# Train model with validation\u001b[39;00m\n\u001b[0;32m      2\u001b[0m model_checkpoint \u001b[38;5;241m=\u001b[39m ModelCheckpoint(\u001b[38;5;124m'\u001b[39m\u001b[38;5;124mbest_model.h5\u001b[39m\u001b[38;5;124m'\u001b[39m, monitor\u001b[38;5;241m=\u001b[39m\u001b[38;5;124m'\u001b[39m\u001b[38;5;124mval_loss\u001b[39m\u001b[38;5;124m'\u001b[39m, save_best_only\u001b[38;5;241m=\u001b[39m\u001b[38;5;28;01mTrue\u001b[39;00m, verbose\u001b[38;5;241m=\u001b[39m\u001b[38;5;241m1\u001b[39m)\n",
      "\u001b[1;31mNameError\u001b[0m: name 'EarlyStopping' is not defined"
     ]
    }
   ],
   "source": [
    "early_stopping = EarlyStopping(monitor='val_loss', patience=10, restore_best_weights=True) # Train model with validation\n",
    "model_checkpoint = ModelCheckpoint('best_model.h5', monitor='val_loss', save_best_only=True, verbose=1)\n"
   ]
  },
  {
   "cell_type": "markdown",
   "id": "444cac13-ec93-4693-babe-1964f8ea4a38",
   "metadata": {},
   "source": [
    "# 8. Train the model"
   ]
  },
  {
   "cell_type": "code",
   "execution_count": 21,
   "id": "010a998f-7674-4363-8070-326a09a05d29",
   "metadata": {},
   "outputs": [
    {
     "ename": "NameError",
     "evalue": "name 'early_stopping' is not defined",
     "output_type": "error",
     "traceback": [
      "\u001b[1;31m---------------------------------------------------------------------------\u001b[0m",
      "\u001b[1;31mNameError\u001b[0m                                 Traceback (most recent call last)",
      "Cell \u001b[1;32mIn[21], line 2\u001b[0m\n\u001b[0;32m      1\u001b[0m history \u001b[38;5;241m=\u001b[39m model\u001b[38;5;241m.\u001b[39mfit(X_train_scaled, y_train_df, epochs\u001b[38;5;241m=\u001b[39m\u001b[38;5;241m100\u001b[39m, batch_size\u001b[38;5;241m=\u001b[39m\u001b[38;5;241m32\u001b[39m, validation_split\u001b[38;5;241m=\u001b[39m\u001b[38;5;241m0.2\u001b[39m,\n\u001b[1;32m----> 2\u001b[0m                     callbacks\u001b[38;5;241m=\u001b[39m[\u001b[43mearly_stopping\u001b[49m, model_checkpoint], verbose\u001b[38;5;241m=\u001b[39m\u001b[38;5;241m1\u001b[39m)\n\u001b[0;32m      4\u001b[0m \u001b[38;5;28;01mwith\u001b[39;00m \u001b[38;5;28mopen\u001b[39m(\u001b[38;5;124m\"\u001b[39m\u001b[38;5;124mscaler.pkl\u001b[39m\u001b[38;5;124m\"\u001b[39m, \u001b[38;5;124m\"\u001b[39m\u001b[38;5;124mwb\u001b[39m\u001b[38;5;124m\"\u001b[39m) \u001b[38;5;28;01mas\u001b[39;00m f:\n\u001b[0;32m      5\u001b[0m     pickle\u001b[38;5;241m.\u001b[39mdump(sc, f)\n",
      "\u001b[1;31mNameError\u001b[0m: name 'early_stopping' is not defined"
     ]
    }
   ],
   "source": [
    "history = model.fit(X_train_scaled, y_train_df, epochs=100, batch_size=32, validation_split=0.2,\n",
    "                    callbacks=[early_stopping, model_checkpoint], verbose=1)\n",
    "\n",
    "with open(\"scaler.pkl\", \"wb\") as f:\n",
    "    pickle.dump(sc, f)\n",
    "\n"
   ]
  },
  {
   "cell_type": "markdown",
   "id": "9bbf6ed8-560e-47d3-9e22-48027c4ca954",
   "metadata": {},
   "source": [
    "# 9. Save the Trained Model"
   ]
  },
  {
   "cell_type": "code",
   "execution_count": 22,
   "id": "0b393bf2-c26a-4cf5-841e-03f2cb04be72",
   "metadata": {},
   "outputs": [
    {
     "name": "stdout",
     "output_type": "stream",
     "text": [
      "✅ Model saved successfully!\n"
     ]
    },
    {
     "name": "stderr",
     "output_type": "stream",
     "text": [
      "C:\\Users\\DELL\\anaconda3\\envs\\civil\\lib\\site-packages\\keras\\src\\engine\\training.py:3103: UserWarning: You are saving your model as an HDF5 file via `model.save()`. This file format is considered legacy. We recommend using instead the native Keras format, e.g. `model.save('my_model.keras')`.\n",
      "  saving_api.save_model(\n"
     ]
    }
   ],
   "source": [
    "model.save(\"model/ann_model.h5\")\n",
    "print(\"✅ Model saved successfully!\")\n"
   ]
  },
  {
   "cell_type": "markdown",
   "id": "f51eaea2-4d07-4860-b67c-859ab913b2eb",
   "metadata": {},
   "source": [
    "# 10. Plotting Training & Validation Loss"
   ]
  },
  {
   "cell_type": "code",
   "execution_count": 52,
   "id": "2561399b-7331-4d57-aa81-0735c2a603d8",
   "metadata": {},
   "outputs": [
    {
     "data": {
      "image/png": "[encoded data removed]",
      "text/plain": [
       "<Figure size 800x400 with 1 Axes>"
      ]
     },
     "metadata": {},
     "output_type": "display_data"
    }
   ],
   "source": [
    "plt.figure(figsize=(8, 4))\n",
    "plt.plot(history.history['loss'], label='Training Loss')\n",
    "plt.plot(history.history['val_loss'], label='Validation Loss')\n",
    "plt.title('Training & Validation Loss')\n",
    "plt.xlabel('Epochs')\n",
    "plt.ylabel('Loss')\n",
    "plt.legend()\n",
    "plt.show()"
   ]
  },
  {
   "cell_type": "markdown",
   "id": "28d6d4bb-d741-4241-bbeb-132134505cd5",
   "metadata": {},
   "source": [
    "# 11. Evaluating the Model - Accuracy (R² score for regression)"
   ]
  },
  {
   "cell_type": "code",
   "execution_count": 63,
   "id": "aeebe813-d550-4e0b-859f-b24ebd32c5d7",
   "metadata": {},
   "outputs": [
    {
     "name": "stdout",
     "output_type": "stream",
     "text": [
      "7/7 [==============================] - 0s 2ms/step\n",
      "MSE: 58.62, MAE: 5.65, R²: 0.80\n"
     ]
    }
   ],
   "source": [
    "y_pred = model.predict(X_test_scaled)  # Predict on test data\n",
    "\n",
    "# Calculate evaluation metrics\n",
    "mse = mean_squared_error(y_test_df, y_pred)  # Average of squared errors\n",
    "mae = mean_absolute_error(y_test_df, y_pred)  # Average of absolute errors\n",
    "r2 = r2_score(y_test_df, y_pred)  # Model performance score\n",
    "\n",
    "print(f\"MSE: {mse:.2f}, MAE: {mae:.2f}, R²: {r2:.2f}\")\n"
   ]
  },
  {
   "cell_type": "markdown",
   "id": "0659817b-97f1-406c-848c-624b180670d3",
   "metadata": {},
   "source": [
    "# 12. Make Predictions on Test Data"
   ]
  },
  {
   "cell_type": "code",
   "execution_count": 54,
   "id": "3cef1545-e896-4090-af1e-9d3ba252a543",
   "metadata": {},
   "outputs": [
    {
     "name": "stdout",
     "output_type": "stream",
     "text": [
      "7/7 [==============================] - 0s 1ms/step\n"
     ]
    }
   ],
   "source": [
    "y_pred = model.predict(X_test_scaled).flatten()\n"
   ]
  },
  {
   "cell_type": "markdown",
   "id": "9be5ab69-21fb-45a1-9b98-7a049da196f1",
   "metadata": {},
   "source": [
    "# 13. Confidence Score (Model's prediction accuracy)"
   ]
  },
  {
   "cell_type": "code",
   "execution_count": 55,
   "id": "6864ca29-3afa-462c-85ea-84f51b955f9b",
   "metadata": {},
   "outputs": [
    {
     "name": "stdout",
     "output_type": "stream",
     "text": [
      "Confidence Score (R²): 0.8035\n"
     ]
    }
   ],
   "source": [
    "# 11. Confidence Score (Model's prediction accuracy)\n",
    "confidence_score = r2_score(y_test_df, y_pred)\n",
    "print(f\"Confidence Score (R²): {confidence_score:.4f}\")\n"
   ]
  },
  {
   "cell_type": "markdown",
   "id": "35f200e1-5a20-46f0-a60e-e2b8fbf63a3d",
   "metadata": {},
   "source": [
    "# 14. Create Confidence Table (Predicted vs True)"
   ]
  },
  {
   "cell_type": "code",
   "execution_count": 56,
   "id": "543053b6-5757-45f7-a02f-9f49878f4d67",
   "metadata": {},
   "outputs": [
    {
     "name": "stdout",
     "output_type": "stream",
     "text": [
      "=== Confidence Table ===\n"
     ]
    },
    {
     "data": {
      "text/html": [
       "<div>\n",
       "<style scoped>\n",
       "    .dataframe tbody tr th:only-of-type {\n",
       "        vertical-align: middle;\n",
       "    }\n",
       "\n",
       "    .dataframe tbody tr th {\n",
       "        vertical-align: top;\n",
       "    }\n",
       "\n",
       "    .dataframe thead th {\n",
       "        text-align: right;\n",
       "    }\n",
       "</style>\n",
       "<table border=\"1\" class=\"dataframe\">\n",
       "  <thead>\n",
       "    <tr style=\"text-align: right;\">\n",
       "      <th></th>\n",
       "      <th>Predicted_Value</th>\n",
       "      <th>True_Value</th>\n",
       "    </tr>\n",
       "  </thead>\n",
       "  <tbody>\n",
       "    <tr>\n",
       "      <th>0</th>\n",
       "      <td>26.179352</td>\n",
       "      <td>19.009543</td>\n",
       "    </tr>\n",
       "    <tr>\n",
       "      <th>1</th>\n",
       "      <td>20.800484</td>\n",
       "      <td>24.290929</td>\n",
       "    </tr>\n",
       "    <tr>\n",
       "      <th>2</th>\n",
       "      <td>33.059513</td>\n",
       "      <td>26.322815</td>\n",
       "    </tr>\n",
       "    <tr>\n",
       "      <th>3</th>\n",
       "      <td>37.274853</td>\n",
       "      <td>34.569637</td>\n",
       "    </tr>\n",
       "    <tr>\n",
       "      <th>4</th>\n",
       "      <td>40.966637</td>\n",
       "      <td>44.133359</td>\n",
       "    </tr>\n",
       "    <tr>\n",
       "      <th>5</th>\n",
       "      <td>22.415823</td>\n",
       "      <td>33.003837</td>\n",
       "    </tr>\n",
       "    <tr>\n",
       "      <th>6</th>\n",
       "      <td>19.831306</td>\n",
       "      <td>17.275511</td>\n",
       "    </tr>\n",
       "    <tr>\n",
       "      <th>7</th>\n",
       "      <td>35.913349</td>\n",
       "      <td>25.422359</td>\n",
       "    </tr>\n",
       "    <tr>\n",
       "      <th>8</th>\n",
       "      <td>26.596359</td>\n",
       "      <td>33.729166</td>\n",
       "    </tr>\n",
       "    <tr>\n",
       "      <th>9</th>\n",
       "      <td>45.387150</td>\n",
       "      <td>34.397958</td>\n",
       "    </tr>\n",
       "  </tbody>\n",
       "</table>\n",
       "</div>"
      ],
      "text/plain": [
       "   Predicted_Value  True_Value\n",
       "0        26.179352   19.009543\n",
       "1        20.800484   24.290929\n",
       "2        33.059513   26.322815\n",
       "3        37.274853   34.569637\n",
       "4        40.966637   44.133359\n",
       "5        22.415823   33.003837\n",
       "6        19.831306   17.275511\n",
       "7        35.913349   25.422359\n",
       "8        26.596359   33.729166\n",
       "9        45.387150   34.397958"
      ]
     },
     "metadata": {},
     "output_type": "display_data"
    }
   ],
   "source": [
    "confidence_df = pd.DataFrame({\n",
    "    'Predicted_Value': y_pred,\n",
    "    'True_Value': y_test_df.squeeze()\n",
    "})\n",
    "\n",
    "print(\"=== Confidence Table ===\")\n",
    "display(confidence_df.head(10))\n"
   ]
  },
  {
   "cell_type": "markdown",
   "id": "c3d87c62-0888-4990-99b7-ca4648657e47",
   "metadata": {},
   "source": [
    "# 15. Graphical Presentation of Predictions (Optional)"
   ]
  },
  {
   "cell_type": "markdown",
   "id": "3eeca4a2-0fcf-4515-a9ab-93ced865d122",
   "metadata": {},
   "source": [
    "# 12. Saving the Model"
   ]
  },
  {
   "cell_type": "code",
   "execution_count": 58,
   "id": "f222025a-d382-4c0a-a0f3-220edda57661",
   "metadata": {},
   "outputs": [
    {
     "data": {
      "image/png": "[encoded data removed]",
      "text/plain": [
       "<Figure size 800x400 with 1 Axes>"
      ]
     },
     "metadata": {},
     "output_type": "display_data"
    }
   ],
   "source": [
    "# 13. Graphical Presentation of Predictions (Optional)\n",
    "plt.figure(figsize=(8, 4))\n",
    "plt.scatter(y_test_df, y_pred)\n",
    "plt.plot([min(y_test_df), max(y_test_df)], [min(y_test_df), max(y_test_df)], color='red')  # Ideal line\n",
    "plt.title('True vs Predicted')\n",
    "plt.xlabel('True Values')\n",
    "plt.ylabel('Predicted Values')\n",
    "plt.show()"
   ]
  },
  {
   "cell_type": "code",
   "execution_count": 59,
   "id": "78591722-7cd8-4e8e-95d7-a5f56df1ac9c",
   "metadata": {},
   "outputs": [
    {
     "name": "stdout",
     "output_type": "stream",
     "text": [
      "Model saved as final_model.h5\n"
     ]
    },
    {
     "name": "stderr",
     "output_type": "stream",
     "text": [
      "C:\\Users\\DELL\\anaconda3\\envs\\civil\\lib\\site-packages\\keras\\src\\engine\\training.py:3103: UserWarning: You are saving your model as an HDF5 file via `model.save()`. This file format is considered legacy. We recommend using instead the native Keras format, e.g. `model.save('my_model.keras')`.\n",
      "  saving_api.save_model(\n"
     ]
    }
   ],
   "source": [
    "# 12. Saving the Model\n",
    "model.save('final_model.h5')\n",
    "print(\"Model saved as final_model.h5\")\n"
   ]
  },
  {
   "cell_type": "code",
   "execution_count": 4,
   "id": "f1bf6200-4a4f-421b-a034-8b605cb914e3",
   "metadata": {},
   "outputs": [
    {
     "ename": "NameError",
     "evalue": "name 'history' is not defined",
     "output_type": "error",
     "traceback": [
      "\u001b[1;31m---------------------------------------------------------------------------\u001b[0m",
      "\u001b[1;31mNameError\u001b[0m                                 Traceback (most recent call last)",
      "Cell \u001b[1;32mIn[4], line 5\u001b[0m\n\u001b[0;32m      2\u001b[0m \u001b[38;5;28;01mimport\u001b[39;00m\u001b[38;5;250m \u001b[39m\u001b[38;5;21;01mnumpy\u001b[39;00m\u001b[38;5;250m \u001b[39m\u001b[38;5;28;01mas\u001b[39;00m\u001b[38;5;250m \u001b[39m\u001b[38;5;21;01mnp\u001b[39;00m\n\u001b[0;32m      4\u001b[0m \u001b[38;5;66;03m# Sample data (replace with your training history)\u001b[39;00m\n\u001b[1;32m----> 5\u001b[0m train_loss \u001b[38;5;241m=\u001b[39m \u001b[43mhistory\u001b[49m\u001b[38;5;241m.\u001b[39mhistory[\u001b[38;5;124m'\u001b[39m\u001b[38;5;124mloss\u001b[39m\u001b[38;5;124m'\u001b[39m]\n\u001b[0;32m      6\u001b[0m val_loss \u001b[38;5;241m=\u001b[39m history\u001b[38;5;241m.\u001b[39mhistory[\u001b[38;5;124m'\u001b[39m\u001b[38;5;124mval_loss\u001b[39m\u001b[38;5;124m'\u001b[39m]\n\u001b[0;32m      7\u001b[0m epochs \u001b[38;5;241m=\u001b[39m \u001b[38;5;28mlist\u001b[39m(\u001b[38;5;28mrange\u001b[39m(\u001b[38;5;241m1\u001b[39m, \u001b[38;5;28mlen\u001b[39m(train_loss) \u001b[38;5;241m+\u001b[39m \u001b[38;5;241m1\u001b[39m))\n",
      "\u001b[1;31mNameError\u001b[0m: name 'history' is not defined"
     ]
    }
   ],
   "source": [
    "import plotly.graph_objects as go\n",
    "import numpy as np\n",
    "\n",
    "# Sample data (replace with your training history)\n",
    "train_loss = history.history['loss']\n",
    "val_loss = history.history['val_loss']\n",
    "epochs = list(range(1, len(train_loss) + 1))\n",
    "\n",
    "# Create initial figure\n",
    "fig = go.Figure(\n",
    "    layout=go.Layout(\n",
    "        title=\"Training vs Validation Loss Over Epochs\",\n",
    "        xaxis=dict(title=\"Epochs\", range=[1, len(epochs)]),\n",
    "        yaxis=dict(title=\"Loss (MSE)\", range=[0, max(max(train_loss), max(val_loss)) * 1.1]),\n",
    "        updatemenus=[dict(type=\"buttons\",\n",
    "                          showactive=False,\n",
    "                          buttons=[dict(label=\"Play\",\n",
    "                                        method=\"animate\",\n",
    "                                        args=[None, {\"frame\": {\"duration\": 300, \"redraw\": True},\n",
    "                                                     \"fromcurrent\": True}])])]\n",
    "    )\n",
    ")\n",
    "\n",
    "# Initial empty traces\n",
    "fig.add_trace(go.Scatter(x=[], y=[], mode='lines+markers', name='Training Loss'))\n",
    "fig.add_trace(go.Scatter(x=[], y=[], mode='lines+markers', name='Validation Loss'))\n",
    "\n",
    "# Frames for animation\n",
    "frames = []\n",
    "for i in range(1, len(epochs)+1):\n",
    "    frames.append(go.Frame(\n",
    "        data=[\n",
    "            go.Scatter(x=epochs[:i], y=train_loss[:i]),\n",
    "            go.Scatter(x=epochs[:i], y=val_loss[:i])\n",
    "        ]\n",
    "    ))\n",
    "\n",
    "fig.frames = frames\n",
    "\n",
    "# Show interactive animation\n",
    "fig.show()\n"
   ]
  },
  {
   "cell_type": "code",
   "execution_count": null,
   "id": "3151e487-6b07-4d84-ad9c-6770e4e91848",
   "metadata": {},
   "outputs": [],
   "source": [
    "import pandas as pd\n",
    "from sklearn.model_selection import train_test_split\n",
    "\n",
    "# Load the cleaned dataset\n",
    "data = pd.read_csv('preprocessed_data.csv')  # Replace with your actual file name\n",
    "\n",
    "# Separate features and target\n",
    "X = data.drop('target_column', axis=1)  # Replace 'target_column' with the actual target name\n",
    "y = data['target_column']\n",
    "\n",
    "# Split into training and testing sets\n",
    "X_train, X_test, y_train, y_test = train_test_split(X, y, test_size=0.2, random_state=42)\n"
   ]
  },
  {
   "cell_type": "code",
   "execution_count": 3,
   "id": "df5f3c2b-a2a6-4d64-aee7-2e792127576f",
   "metadata": {},
   "outputs": [
    {
     "ename": "NameError",
     "evalue": "name 'X_train_df' is not defined",
     "output_type": "error",
     "traceback": [
      "\u001b[1;31m---------------------------------------------------------------------------\u001b[0m",
      "\u001b[1;31mNameError\u001b[0m                                 Traceback (most recent call last)",
      "Cell \u001b[1;32mIn[3], line 7\u001b[0m\n\u001b[0;32m      5\u001b[0m \u001b[38;5;66;03m# Train a second model (Random Forest)\u001b[39;00m\n\u001b[0;32m      6\u001b[0m rf_model \u001b[38;5;241m=\u001b[39m RandomForestRegressor(random_state\u001b[38;5;241m=\u001b[39m\u001b[38;5;241m42\u001b[39m)\n\u001b[1;32m----> 7\u001b[0m rf_model\u001b[38;5;241m.\u001b[39mfit(\u001b[43mX_train_df\u001b[49m, y_train_df)\n\u001b[0;32m      9\u001b[0m \u001b[38;5;66;03m# Predict on the test set\u001b[39;00m\n\u001b[0;32m     10\u001b[0m rf_preds \u001b[38;5;241m=\u001b[39m rf_model\u001b[38;5;241m.\u001b[39mpredict(X_test_df)\n",
      "\u001b[1;31mNameError\u001b[0m: name 'X_train_df' is not defined"
     ]
    }
   ],
   "source": [
    "# Import necessary libraries\n",
    "from sklearn.ensemble import RandomForestRegressor\n",
    "from sklearn.metrics import mean_squared_error, r2_score\n",
    "\n",
    "# Train a second model (Random Forest)\n",
    "rf_model = RandomForestRegressor(random_state=42)\n",
    "rf_model.fit(X_train_df, y_train_df)\n",
    "\n",
    "# Predict on the test set\n",
    "rf_preds = rf_model.predict(X_test_df)\n",
    "\n",
    "# Evaluate both models\n",
    "existing_preds = existing_model.predict(X_test)  # Replace with your model's predict method\n",
    "existing_rmse = mean_squared_error(y_test, existing_preds, squared=False)\n",
    "rf_rmse = mean_squared_error(y_test, rf_preds, squared=False)\n",
    "\n",
    "existing_r2 = r2_score(y_test, existing_preds)\n",
    "rf_r2 = r2_score(y_test, rf_preds)\n",
    "\n",
    "# Print comparison\n",
    "print(\"📊 Model Comparison:\")\n",
    "print(f\"Existing Model - RMSE: {existing_rmse:.4f}, R2 Score: {existing_r2:.4f}\")\n",
    "print(f\"Random Forest  - RMSE: {rf_rmse:.4f}, R2 Score: {rf_r2:.4f}\")\n"
   ]
  },
  {
   "cell_type": "code",
   "execution_count": null,
   "id": "18fe2679-772f-42d8-b10d-558e38eb9c25",
   "metadata": {},
   "outputs": [],
   "source": []
  }
 ],
 "metadata": {
  "kernelspec": {
   "display_name": "Python 3 (ipykernel)",
   "language": "python",
   "name": "python3"
  },
  "language_info": {
   "codemirror_mode": {
    "name": "ipython",
    "version": 3
   },
   "file_extension": ".py",
   "mimetype": "text/x-python",
   "name": "python",
   "nbconvert_exporter": "python",
   "pygments_lexer": "ipython3",
   "version": "3.9.21"
  }
 },
 "nbformat": 4,
 "nbformat_minor": 5
}
